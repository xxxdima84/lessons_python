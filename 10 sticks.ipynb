{
 "cells": [
  {
   "cell_type": "code",
   "execution_count": null,
   "metadata": {},
   "outputs": [],
   "source": [
    "number_of_stiks=10 #Всего палочек\n",
    "player_turn=1 # Переменная для смены игрока\n",
    "\n",
    "while number_of_stiks > 0: # Игра продожится пока имеются палочки\n",
    "    print(f'Какое количество палоче хочет взять игрок? сейчас осталось {number_of_stiks}') #Какое количество палоче хочет взять игрок? и сколько сейчас осталось\n",
    "    taken = int(input())# Сколько палочек взял игрок с конветацией в int\n",
    "    \n",
    "    if taken < 1 or taken > 3 :# Проверка вы вяли слишком много или не взяли ппалочки\n",
    "        print(f'вы взяли {taken}, а можно взять 1,2,3')\n",
    "        continue #  возврат на начало цикла\n",
    "        \n",
    "    number_of_stiks-=taken #  количество палочек = количество палочек - взятых\n",
    "    print (f'взято палочек {taken}\\n') # количество взято палочек \n",
    "    \n",
    "    if number_of_stiks <= 0: # Если количество взятых палочек менше или равно нулю\n",
    "           print(f'нет больше палочек в игре. \\n Игрок {player_turn} проиграл') #Нет больше палочек проиграл текущй игрок\n",
    "    \n",
    "    player_turn = 1 if player_turn==2 else 2 # Смена игрока = (1) если смена игроа 2 то следующим тянет первый еслине первый игро сейчас второй\n",
    "    \n",
    "    input()"
   ]
  },
  {
   "cell_type": "code",
   "execution_count": null,
   "metadata": {},
   "outputs": [],
   "source": [
    "number_of_stiks=10\n",
    "player_turn=1\n",
    "\n",
    "def can_take(stiks):\n",
    "    return stiks >=1 and stiks <= 3\n",
    "\n",
    "def switch_player_turn(turn):\n",
    "    return 1 if player_turn == 2 else 2\n",
    "\n",
    "def end_of_game(stiks):\n",
    "    return number_of_stiks <= 0\n",
    "while (not end_of_game (number_of_stiks)):\n",
    "    print(f'Какое количество палоче хочет взять игрок? сейчас осталось {number_of_stiks}') #Какое количество палоче хочет взять игрок? и сколько сейчас осталось\n",
    "    taken = int(input())# Сколько палочек взял игрок с конветацией в int\n",
    "    \n",
    "    if not can_take(taken):\n",
    "        print(f'вы взяли {taken}, а можно взять 1,2,3')\n",
    "        continue #  возврат на начало цикла\n",
    "        \n",
    "    number_of_stiks-=taken #  количество палочек = количество палочек - взятых\n",
    "    print (f'взято палочек {taken}\\n') # количество взято палочек \n",
    "    \n",
    "    if end_of_game(number_of_stiks): \n",
    "           print(f'нет больше палочек в игре. \\n Игрок {player_turn} проиграл') #Нет больше палочек проиграл текущй игрок\n",
    "           break \n",
    "    \n",
    "    player_turn = switch_player_turn(player_turn)# Смена игрока = (1) если смена игроа 2 то следующим тянет первый еслине первый игро сейчас второй"
   ]
  },
  {
   "cell_type": "code",
   "execution_count": null,
   "metadata": {},
   "outputs": [],
   "source": []
  }
 ],
 "metadata": {
  "kernelspec": {
   "display_name": "Python 3",
   "language": "python",
   "name": "python3"
  },
  "language_info": {
   "codemirror_mode": {
    "name": "ipython",
    "version": 3
   },
   "file_extension": ".py",
   "mimetype": "text/x-python",
   "name": "python",
   "nbconvert_exporter": "python",
   "pygments_lexer": "ipython3",
   "version": "3.7.4"
  }
 },
 "nbformat": 4,
 "nbformat_minor": 2
}
