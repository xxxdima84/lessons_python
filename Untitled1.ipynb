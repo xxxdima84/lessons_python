{
 "cells": [
  {
   "cell_type": "code",
   "execution_count": 1,
   "metadata": {},
   "outputs": [
    {
     "name": "stdout",
     "output_type": "stream",
     "text": [
      "Привет мир\n",
      "Привет вновь!\n",
      "Мне нравится это печатать.\n",
      "Ура! я это печатаю!\n",
      "Это весело!\n",
      "Это занятие как 'волшебство'\n",
      "Я бы \"сказал\", это круто!\n"
     ]
    }
   ],
   "source": [
    "print(\"Привет мир\")\n",
    "print(\"Привет вновь!\")\n",
    "print(\"Мне нравится это печатать.\")\n",
    "print(\"Ура! я это печатаю!\")\n",
    "print('Это весело!')\n",
    "print(\"Это занятие как 'волшебство'\")\n",
    "print('Я бы \"сказал\", это круто!')"
   ]
  },
  {
   "cell_type": "code",
   "execution_count": null,
   "metadata": {},
   "outputs": [],
   "source": []
  }
 ],
 "metadata": {
  "kernelspec": {
   "display_name": "Python 3",
   "language": "python",
   "name": "python3"
  },
  "language_info": {
   "codemirror_mode": {
    "name": "ipython",
    "version": 3
   },
   "file_extension": ".py",
   "mimetype": "text/x-python",
   "name": "python",
   "nbconvert_exporter": "python",
   "pygments_lexer": "ipython3",
   "version": "3.7.4"
  }
 },
 "nbformat": 4,
 "nbformat_minor": 2
}
