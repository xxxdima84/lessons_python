{
 "cells": [
  {
   "cell_type": "code",
   "execution_count": 1,
   "metadata": {},
   "outputs": [
    {
     "name": "stdout",
     "output_type": "stream",
     "text": [
      "отгадайте число от 1 до 50 - у вас 6 попыток\n",
      "введите пожалуста число 1\n",
      "компютер загадал большее число\n",
      "введите пожалуста число 2\n",
      "компютер загадал большее число\n",
      "введите пожалуста число 3\n",
      "Поздравляю вы отгадали число за 3 попыток\n",
      "\n"
     ]
    },
    {
     "data": {
      "text/plain": [
       "''"
      ]
     },
     "execution_count": 1,
     "metadata": {},
     "output_type": "execute_result"
    }
   ],
   "source": [
    "import random\n",
    "trice=0\n",
    "print ('отгадайте число от 1 до 50 - у вас 6 попыток')\n",
    "a = random.randint(1,5)\n",
    "while trice < 6:\n",
    "    b=int(input('введите пожалуста число '))\n",
    "    trice=trice +1\n",
    "    \n",
    "    if b > a:\n",
    "        print ('компютер загадал меньшее число')\n",
    "        \n",
    "    if b < a:\n",
    "        print ('компютер загадал большее число')\n",
    "        \n",
    "    if b==a:\n",
    "        print(f'Поздравляю вы отгадали число за {trice} попыток')\n",
    "        break\n",
    "        \n",
    "    if a!=b and trice == 6:\n",
    "        print(f'Вы исчерпали количество попыток я загадал {a}')\n",
    "        break\n",
    "input()"
   ]
  },
  {
   "cell_type": "code",
   "execution_count": null,
   "metadata": {},
   "outputs": [],
   "source": []
  }
 ],
 "metadata": {
  "kernelspec": {
   "display_name": "Python 3",
   "language": "python",
   "name": "python3"
  },
  "language_info": {
   "codemirror_mode": {
    "name": "ipython",
    "version": 3
   },
   "file_extension": ".py",
   "mimetype": "text/x-python",
   "name": "python",
   "nbconvert_exporter": "python",
   "pygments_lexer": "ipython3",
   "version": "3.7.4"
  }
 },
 "nbformat": 4,
 "nbformat_minor": 2
}
