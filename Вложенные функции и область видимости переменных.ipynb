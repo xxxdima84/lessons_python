{
 "cells": [
  {
   "cell_type": "code",
   "execution_count": null,
   "metadata": {},
   "outputs": [],
   "source": [
    "greeting = \"Hello from the global scope\"\n",
    "\n",
    "def greet():\n",
    "    #greeting = \"Hello from enclosing scope\"\n",
    "    \n",
    "    def nested():\n",
    "       #greeting = \"Hello from local scope\"\n",
    "        print(greeting)\n",
    "    nested()"
   ]
  },
  {
   "cell_type": "code",
   "execution_count": null,
   "metadata": {},
   "outputs": [],
   "source": [
    "greet()\n",
    "print(greeting)"
   ]
  },
  {
   "cell_type": "code",
   "execution_count": null,
   "metadata": {},
   "outputs": [],
   "source": [
    "#list не использовать"
   ]
  },
  {
   "cell_type": "code",
   "execution_count": 5,
   "metadata": {},
   "outputs": [],
   "source": [
    "greeting = \"Hello from the global scope\"\n",
    "\n",
    "def greet():\n",
    "    global greeting\n",
    "    print(f'Greet in func:{greeting}')\n",
    "    \n",
    "    greeting = \"Hello from enclosing scope\"\n",
    "    \n",
    "    print(f'Greet in func:{greeting}')\n",
    "    \n",
    "    def nested():\n",
    "        greeting = \"Hello frome local scope\"\n",
    "        print (greeting)\n",
    "    nested ()"
   ]
  },
  {
   "cell_type": "code",
   "execution_count": 6,
   "metadata": {},
   "outputs": [
    {
     "name": "stdout",
     "output_type": "stream",
     "text": [
      "Greet in func:Hello from the global scope\n",
      "Greet in func:Hello from enclosing scope\n",
      "Hello frome local scope\n",
      "Hello from enclosing scope\n"
     ]
    }
   ],
   "source": [
    "greet()\n",
    "print(greeting)"
   ]
  },
  {
   "cell_type": "code",
   "execution_count": null,
   "metadata": {},
   "outputs": [],
   "source": []
  }
 ],
 "metadata": {
  "kernelspec": {
   "display_name": "Python 3",
   "language": "python",
   "name": "python3"
  },
  "language_info": {
   "codemirror_mode": {
    "name": "ipython",
    "version": 3
   },
   "file_extension": ".py",
   "mimetype": "text/x-python",
   "name": "python",
   "nbconvert_exporter": "python",
   "pygments_lexer": "ipython3",
   "version": "3.7.4"
  }
 },
 "nbformat": 4,
 "nbformat_minor": 2
}
