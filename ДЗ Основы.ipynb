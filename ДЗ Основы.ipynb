{
 "cells": [
  {
   "cell_type": "code",
   "execution_count": null,
   "metadata": {},
   "outputs": [],
   "source": [
    "promt = input('Сколько чашек вы хотите купить') # cups это строка\n",
    "cups = int(promt)\n",
    "free= int (cups/6) # age это int\n",
    "print (free)"
   ]
  },
  {
   "cell_type": "code",
   "execution_count": null,
   "metadata": {},
   "outputs": [],
   "source": [
    "x_a = int(input('введите x для точки а'))\n",
    "x_b = int(input('введите x для точки b'))\n",
    "y_a = int(input('введите y для точки а'))\n",
    "y_b = int(input('введите y для точки b'))\n",
    "\n",
    "distance = round(((x_a - x_b)**2+(y_a - y_b)**2)**0.5,3)\n",
    "\n",
    "print (distance)"
   ]
  },
  {
   "cell_type": "code",
   "execution_count": null,
   "metadata": {},
   "outputs": [],
   "source": [
    "cups = int(input('Сколько чашек вы хотите купить'))\n",
    "print (int(cups/6))"
   ]
  },
  {
   "cell_type": "code",
   "execution_count": 5,
   "metadata": {},
   "outputs": [
    {
     "name": "stdout",
     "output_type": "stream",
     "text": [
      "введите x для точки а-2\n",
      "введите y для точки a1\n",
      "введите x для точки b4\n",
      "введите y для точки b3\n",
      "6.325\n"
     ]
    }
   ],
   "source": [
    "import math \n",
    "\n",
    "x1 = int(input('введите x для точки а'))\n",
    "y1 = int(input('введите y для точки a'))\n",
    "x2 = int(input('введите x для точки b'))\n",
    "y2 = int(input('введите y для точки b'))\n",
    "\n",
    "distance = round(math.sqrt((x1 - x2)**2 + (y1 - y2)**2),3)\n",
    "print(distance)"
   ]
  },
  {
   "cell_type": "code",
   "execution_count": 8,
   "metadata": {},
   "outputs": [
    {
     "name": "stdout",
     "output_type": "stream",
     "text": [
      "введите количество ног у курицы2\n",
      "введите количество ног у коровы2\n",
      "введите количество ног у свиньи2\n",
      "20\n"
     ]
    }
   ],
   "source": [
    "chicken = int(input('введите количество ног у курицы'))\n",
    "cow = int(input('введите количество ног у коровы'))\n",
    "pig = int(input('введите количество ног у свиньи'))\n",
    "\n",
    "leg= chicken*2+(cow+pig)*4\n",
    "print (leg)"
   ]
  },
  {
   "cell_type": "code",
   "execution_count": null,
   "metadata": {},
   "outputs": [],
   "source": []
  }
 ],
 "metadata": {
  "kernelspec": {
   "display_name": "Python 3",
   "language": "python",
   "name": "python3"
  },
  "language_info": {
   "codemirror_mode": {
    "name": "ipython",
    "version": 3
   },
   "file_extension": ".py",
   "mimetype": "text/x-python",
   "name": "python",
   "nbconvert_exporter": "python",
   "pygments_lexer": "ipython3",
   "version": "3.7.4"
  }
 },
 "nbformat": 4,
 "nbformat_minor": 2
}
