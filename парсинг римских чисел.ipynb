{
 "cells": [
  {
   "cell_type": "code",
   "execution_count": null,
   "metadata": {},
   "outputs": [],
   "source": [
    "romans=dict(I=1, V=5, X=10, L=50, C=100, D=500, M=100) # создаем словарь\n",
    "\n",
    "#может быть передано XIV\n",
    "def parse_roman(roman):   # создать функцию парсинга\n",
    "    result = 0           # созаем переменную аккумулятор которая позволит накапливать число\n",
    "    for i, c in enumerate (roman): #запускаем цикл и так как нам индекс и текущий элемент использую enumerate\n",
    "        if i+1<len(roman) and romans[roman[i]] < romans[roman[i+1]]:\n",
    "            result-=romans[roman[i]]\n",
    "        else:\n",
    "            result+= romans[roman[i]]\n",
    "    return result                            "
   ]
  },
  {
   "cell_type": "code",
   "execution_count": null,
   "metadata": {},
   "outputs": [],
   "source": [
    "print(parse_roman('I')==1)\n",
    "print(parse_roman('II')==2)\n",
    "print(parse_roman('V')==5)\n",
    "print(parse_roman('VI')==1)"
   ]
  },
  {
   "cell_type": "code",
   "execution_count": 4,
   "metadata": {},
   "outputs": [],
   "source": [
    "romans=dict(I=1, V=5, X=10, L=50, C=100, D=500, M=100) # создаем словарь\n",
    "\n",
    "#может быть передано XIV\n",
    "def parse_roman(roman):   # создать функцию парсинга\n",
    "    result = 0           # созаем переменную аккумулятор которая позволит накапливать число\n",
    "    for i, c in enumerate (roman): #запускаем цикл и так как нам индекс и текущий элемент использую enumerate\n",
    "        if i+1<len(roman) and romans[c] < romans[roman[i+1]]:\n",
    "            result-=romans[c]\n",
    "        else:\n",
    "            result+= romans[c]\n",
    "    return result   "
   ]
  },
  {
   "cell_type": "code",
   "execution_count": 5,
   "metadata": {},
   "outputs": [
    {
     "name": "stdout",
     "output_type": "stream",
     "text": [
      "True\n",
      "True\n",
      "True\n"
     ]
    }
   ],
   "source": [
    "print(parse_roman('I')==1)\n",
    "print(parse_roman('II')==2)\n",
    "print(parse_roman('V')==5)"
   ]
  },
  {
   "cell_type": "code",
   "execution_count": null,
   "metadata": {},
   "outputs": [],
   "source": []
  }
 ],
 "metadata": {
  "kernelspec": {
   "display_name": "Python 3",
   "language": "python",
   "name": "python3"
  },
  "language_info": {
   "codemirror_mode": {
    "name": "ipython",
    "version": 3
   },
   "file_extension": ".py",
   "mimetype": "text/x-python",
   "name": "python",
   "nbconvert_exporter": "python",
   "pygments_lexer": "ipython3",
   "version": "3.7.4"
  }
 },
 "nbformat": 4,
 "nbformat_minor": 2
}
